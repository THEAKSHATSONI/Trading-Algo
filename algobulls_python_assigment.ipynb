{
  "metadata": {
    "language_info": {
      "name": ""
    },
    "kernelspec": {
      "name": "python",
      "display_name": "Python (Pyodide)",
      "language": "python"
    }
  },
  "nbformat_minor": 4,
  "nbformat": 4,
  "cells": [
    {
      "cell_type": "code",
      "source": "import requests\nimport pandas as pd\nimport matplotlib.pyplot as plt",
      "metadata": {
        "trusted": true
      },
      "execution_count": null,
      "outputs": []
    },
    {
      "cell_type": "code",
      "source": "API =  \"EYFKAI04SV2M2AR4\"",
      "metadata": {
        "trusted": true
      },
      "execution_count": null,
      "outputs": []
    },
    {
      "cell_type": "code",
      "source": "# Task 1.\n\nclass ScriptData:\n\n    def fetch_intraday_data(self,script):\n        url= f'https://www.alphavantage.co/query?function=TIME_SERIES_INTRADAY&symbol={script}&interval=5min&apikey={API}'\n        r = requests.get(url)\n        return r.json()\n    \n    def convert_intraday_data(self,script):\n        data = self.fetch_intraday_data(script)[\"Time Series (5min)\"]\n        \n        timestamp = list(data.keys())[::-1]\n        \n        value = list(data.values())[::-1]\n        \n        open_data = [float(value[i]['1. open']) for i in range(len(value))]\n        high_data =  [float(value[i]['2. high']) for i in range(len(value))]\n        low_data = [float(value[i]['3. low']) for i in range(len(value))]\n        close_data = [float(value[i]['4. close']) for i in range(len(value))]\n        volume_data =  [int(value[i]['5. volume']) for i in range(len(value))]\n        \n        df = pd.DataFrame(\n            {\n                \"timestamp\":timestamp,\n                \"open\":open_data,\n                \"high\":high_data,\n                \"low\":low_data,\n                \"close\":close_data,\n                \"volume\":volume_data\n            }\n        )\n        \n        return df\n        \n    # Additional methods for overloading the following operations:\n        # i. getitem\n        # ii. setitem\n        # iii. contains\n    def getitem(self):\n        pass\n    \n    def setitem(self):\n        pass\n    \n    def contains(self):\n        pass",
      "metadata": {
        "trusted": true
      },
      "execution_count": null,
      "outputs": []
    },
    {
      "cell_type": "code",
      "source": "# Task 2.\n        \ndef indicator1(df, timeperiod=5):\n    time = list(df[\"timestamp\"])\n    closed = list(df[\"close\"])\n    # print(time)\n    # print(closed)\n    \n    tim = []\n    \n    for i in range(1,len(closed)+1):\n        if i<(timeperiod):\n            tim.append(\"NaN\")\n        else:\n            ad = float((sum(closed[i-5:i+1]))/timeperiod)\n            tim.append(ad)\n    \n    indicator = pd.DataFrame(\n        {\n            \"timestamp\":time,\n            \"indicator\":tim\n        }\n    )\n    return indicator",
      "metadata": {
        "trusted": true
      },
      "execution_count": null,
      "outputs": []
    },
    {
      "cell_type": "code",
      "source": "# Task 3.\nclass Strategy:\n    def __init__(self,name):\n        self.name = name\n        \n    def get_script_data(self):\n        data = ScriptData()\n        close_data = list(data.convert_intraday_data(self.name)['close'])[4:]\n        indicator_data = list(indicator1(data.convert_intraday_data(self.name))['indicator'])[4:]\n        #print(indicator_data,\"\\n\",close_data)\n        time = list(indicator1(data.convert_intraday_data(self.name))['timestamp'])[4:]\n        return time, indicator_data, close_data\n        \n    def get_signals(self):\n        \n        (time,indicator_data,close_data) = self.get_script_data()\n        \n        graph_data = pd.DataFrame({\n            \"time\":time,\n            \"indicator\":indicator_data,\n            \"close\":close_data\n        })\n        \n        graph_data.plot()\n        plt.show()\n        \n        signal_data = []\n        \n        \n        for i in range(len(indicator_data)):\n            if indicator_data[i]>close_data[i]:\n                signal_data.append(\"BUY\")\n                \n            elif indicator_data[i]<close_data[i]:\n                signal_data.append(\"SELL\")\n                \n            else:\n                signal_data.append(\"NO_SIGNAL\")\n        \n        signals = pd.DataFrame(\n            {\n                \"timestamps\":time,\n                \"signal\":signal_data\n            }\n        )\n        \n        return signals\n        ",
      "metadata": {
        "trusted": true
      },
      "execution_count": null,
      "outputs": []
    },
    {
      "cell_type": "code",
      "source": "script_data = ScriptData()\n\ndataframe_1 = script_data.fetch_intraday_data(\"GOOGL\")\n\ndataframe_2 = script_data.convert_intraday_data(\"GOOGL\")",
      "metadata": {
        "trusted": true
      },
      "execution_count": null,
      "outputs": []
    },
    {
      "cell_type": "code",
      "source": "dataframe_3 = indicator1(script_data.convert_intraday_data(\"GOOGL\"))\n",
      "metadata": {
        "trusted": true
      },
      "execution_count": null,
      "outputs": []
    },
    {
      "cell_type": "code",
      "source": "print(dataframe_1)\n",
      "metadata": {
        "trusted": true
      },
      "execution_count": null,
      "outputs": []
    },
    {
      "cell_type": "code",
      "source": "print(dataframe_2)",
      "metadata": {
        "trusted": true
      },
      "execution_count": null,
      "outputs": []
    },
    {
      "cell_type": "code",
      "source": "print(dataframe_3)\n",
      "metadata": {
        "trusted": true
      },
      "execution_count": null,
      "outputs": []
    },
    {
      "cell_type": "code",
      "source": "dataframe_2.plot()\nplt.show()",
      "metadata": {
        "trusted": true
      },
      "execution_count": null,
      "outputs": []
    },
    {
      "cell_type": "code",
      "source": "t = Strategy(\"GOOGL\")\nprint(t.get_signals())",
      "metadata": {
        "trusted": true
      },
      "execution_count": null,
      "outputs": []
    },
    {
      "cell_type": "code",
      "source": "",
      "metadata": {},
      "execution_count": null,
      "outputs": []
    }
  ]
}